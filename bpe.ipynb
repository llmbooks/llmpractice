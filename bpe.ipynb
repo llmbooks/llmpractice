{
  "metadata": {
    "language_info": {
      "codemirror_mode": {
        "name": "python",
        "version": 3
      },
      "file_extension": ".py",
      "mimetype": "text/x-python",
      "name": "python",
      "nbconvert_exporter": "python",
      "pygments_lexer": "ipython3",
      "version": "3.8"
    },
    "kernelspec": {
      "name": "python",
      "display_name": "Python (Pyodide)",
      "language": "python"
    }
  },
  "nbformat_minor": 4,
  "nbformat": 4,
  "cells": [
    {
      "cell_type": "code",
      "source": "import re, collections\ndef get_stats(vocab):\n    pairs = collections.defaultdict(int)\n    for word, freq in vocab.items():\n        symbols = word.split()\n        for i in range(len(symbols)-1):\n            pairs[symbols[i],symbols[i+1]] += freq\n    return pairs\n\ndef merge_vocab(pair, v_in):\n    v_out = {}\n    bigram = re.escape(' '.join(pair))\n    p = re.compile(r'(?<!\\S)' + bigram + r'(?!\\S)')\n    for word in v_in:\n        w_out = p.sub(''.join(pair), word)\n        v_out[w_out] = v_in[word]\n    return v_out\n\nvocab = {'l o w': 2,\n         'l o w e r': 1,\n         'b e l o w': 1,\n         'b e': 4,\n         'b e e r': 1}\nnum_merges = 4\nfor i in range(num_merges):\n    pairs = get_stats(vocab)\n    best = max(pairs, key=pairs.get)\n    vocab = merge_vocab(best, vocab)\n    print(list(vocab.keys()))",
      "metadata": {
        "trusted": true
      },
      "execution_count": 2,
      "outputs": [
        {
          "name": "stdout",
          "text": "['l o w', 'l o w e r', 'be l o w', 'be', 'be e r']\n['lo w', 'lo w e r', 'be lo w', 'be', 'be e r']\n['low', 'low e r', 'be low', 'be', 'be e r']\n['low', 'low er', 'be low', 'be', 'be er']\n",
          "output_type": "stream"
        }
      ]
    },
    {
      "cell_type": "code",
      "source": "",
      "metadata": {},
      "execution_count": null,
      "outputs": []
    }
  ]
}